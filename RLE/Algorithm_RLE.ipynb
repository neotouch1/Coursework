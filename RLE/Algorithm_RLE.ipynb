{
 "cells": [
  {
   "cell_type": "code",
   "execution_count": 16,
   "metadata": {},
   "outputs": [],
   "source": [
    "import numpy as np\n",
    "import matplotlib.pyplot as plt\n",
    "import sys\n",
    "from PIL import Image, ImageOps\n",
    "import os\n",
    "import cv2"
   ]
  },
  {
   "cell_type": "markdown",
   "metadata": {},
   "source": [
    "Подготовка данных"
   ]
  },
  {
   "cell_type": "code",
   "execution_count": 18,
   "metadata": {},
   "outputs": [],
   "source": [
    "# Открываем изображение \n",
    "img_path = \"D:/Python/научка/baw.jpg\"\n",
    "img = Image.open(img_path)\n",
    "\n",
    "\n",
    "# Конвертируем его в серый\n",
    "img = img.convert('L')\n",
    "threshold = 128     # задаем границу для цвета\n",
    "\n",
    "# Преобразуем все значения в бинарные по границе\n",
    "bw_img = ImageOps.invert(img.point(lambda p: p > threshold and 255))\n",
    "\n",
    "\n",
    "im_num = np.array(bw_img)\n",
    "# print(im_num.shape)"
   ]
  },
  {
   "cell_type": "markdown",
   "metadata": {},
   "source": [
    "RLE"
   ]
  },
  {
   "cell_type": "code",
   "execution_count": null,
   "metadata": {},
   "outputs": [],
   "source": [
    "# RLE\n",
    "\n",
    "def algorithm_RLE(src):\n",
    "    shapei = src.shape\n",
    "    result = []\n",
    "\n",
    "    for i in range(shapei[0]):\n",
    "        current = src[i][0]\n",
    "        count = 1\n",
    "        for j in range(1, shapei[1]):\n",
    "            if current == src[i][j]:\n",
    "                count += 1\n",
    "            else:\n",
    "                result.append((i, current, count))\n",
    "                current = src[i][j]\n",
    "                count = 1\n",
    "        result.append((i, current, count))\n",
    "\n",
    "    return result"
   ]
  },
  {
   "cell_type": "markdown",
   "metadata": {},
   "source": [
    "Обратный RLE"
   ]
  },
  {
   "cell_type": "code",
   "execution_count": null,
   "metadata": {},
   "outputs": [],
   "source": [
    "# Декодер RLE\n",
    "def RLE_decode(result):\n",
    "    decode_img = []\n",
    "    for i in range (len(result)):\n",
    "        row, pixel_val, run_length = result[i]\n",
    "        decode_img.extend([pixel_val] * run_length)\n",
    "    decode_img = np.array(decode_img, dtype=np.uint8)\n",
    "    decode_img = decode_img.reshape((len(result), -1))\n",
    "    return decode_img"
   ]
  },
  {
   "cell_type": "markdown",
   "metadata": {},
   "source": [
    "Проверка Результатов"
   ]
  },
  {
   "cell_type": "code",
   "execution_count": null,
   "metadata": {},
   "outputs": [],
   "source": [
    "# Вызов алгоритма\n",
    "res = algorithm_RLE(im_num)\n",
    "\n",
    "# Обратное преобразование в изображение\n",
    "img_r = RLE_decode(res)\n",
    "\n",
    "# Визуализация результата\n",
    "cv2.imshow('decode_img', img_r)\n",
    "cv2.waitKey(0)\n",
    "cv2.destroyAllWindows()\n",
    "\n",
    "res = np.array(res)\n",
    "\n",
    "# Получение размера в байтах исходного изображения\n",
    "file_size = os.path.getsize(img_path)\n",
    "\n",
    "# Получение размера структуры в которой хранится результат\n",
    "size_struc = sys.getsizeof(res)\n",
    "\n",
    "# Размер хранимых в структуре данных\n",
    "size_data = res.nbytes\n",
    "\n",
    "# Итоговый размер\n",
    "total_size = size_struc + size_data\n",
    "\n",
    "# консольный вывод для сравнения\n",
    "print(total_size, file_size)\n",
    "\n",
    "print(total_size / file_size)"
   ]
  }
 ],
 "metadata": {
  "kernelspec": {
   "display_name": "my_env",
   "language": "python",
   "name": "python3"
  },
  "language_info": {
   "codemirror_mode": {
    "name": "ipython",
    "version": 3
   },
   "file_extension": ".py",
   "mimetype": "text/x-python",
   "name": "python",
   "nbconvert_exporter": "python",
   "pygments_lexer": "ipython3",
   "version": "3.11.4"
  }
 },
 "nbformat": 4,
 "nbformat_minor": 2
}
