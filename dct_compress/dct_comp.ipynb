{
 "cells": [
  {
   "cell_type": "code",
   "execution_count": 315,
   "metadata": {},
   "outputs": [],
   "source": [
    "import cv2\n",
    "import numpy as np\n",
    "import os\n",
    "import sys\n",
    "import time\n",
    "import matplotlib.pyplot as plt"
   ]
  },
  {
   "cell_type": "markdown",
   "metadata": {},
   "source": [
    "Загрузка изображения"
   ]
  },
  {
   "cell_type": "code",
   "execution_count": 316,
   "metadata": {},
   "outputs": [],
   "source": [
    "img_path = '/home/evgen/Coursework/dct_compress/800_600.jpg' # fisherman-4465032_960_720.jpg\n",
    "\n",
    "img = cv2.imread(img_path, cv2.IMREAD_COLOR) #COLOR_YCrCb2BGR cv2.COLOR_BGR2YCR_CB)\n",
    "\n",
    "if img is None:\n",
    "    print(\"Ошибка: изображение не загружено. Проверьте путь к файлу.\")\n",
    "else:\n",
    "    # Преобразование в цветовое пространство YCrCb\n",
    "    img_ycrcb = cv2.cvtColor(img, cv2.COLOR_BGR2YCrCb)\n",
    "\n",
    "    # cv2.imshow('Image in YCrCb', img_ycrcb)\n",
    "    # cv2.waitKey(0)\n",
    "    # cv2.destroyAllWindows()\n"
   ]
  },
  {
   "cell_type": "code",
   "execution_count": 317,
   "metadata": {},
   "outputs": [
    {
     "name": "stdout",
     "output_type": "stream",
     "text": [
      "Размер изображения в памяти: 1406.25 kb\n"
     ]
    }
   ],
   "source": [
    "memory_size = img.nbytes\n",
    "print(f\"Размер изображения в памяти: {memory_size/1024} kb\")"
   ]
  },
  {
   "cell_type": "markdown",
   "metadata": {},
   "source": [
    "Предобработка"
   ]
  },
  {
   "cell_type": "code",
   "execution_count": 318,
   "metadata": {},
   "outputs": [],
   "source": [
    "# Приведение изображения к кратным размерам\n",
    "def pad_image_to_multiple(img, block_size = 8):\n",
    "    h, w, channels = img.shape\n",
    "\n",
    "    # pad block size\n",
    "    pad_h = (block_size - h % block_size) % block_size\n",
    "    pad_w = (block_size - w % block_size) % block_size\n",
    "    # print(pad_h, pad_w)\n",
    "\n",
    "    new_h = h + pad_h\n",
    "    new_w = w + pad_w\n",
    "\n",
    "    new_img = np.zeros((new_h, new_w, channels), dtype=np.uint8)\n",
    "    new_img[:h, :w] = img\n",
    "\n",
    "    return new_img\n",
    "\n"
   ]
  },
  {
   "cell_type": "code",
   "execution_count": 319,
   "metadata": {},
   "outputs": [],
   "source": [
    "def split_into_blocs(img, block_size = 8):\n",
    "    h, w, channels = img.shape\n",
    "\n",
    "    blocks = img.reshape(h // block_size, block_size,\n",
    "                         w // block_size, block_size, \n",
    "                         channels)\n",
    "    \n",
    "\n",
    "    #Меняем оси для правильной структуры блоков\n",
    "    blocks = blocks.swapaxes(1, 2)\n",
    "    return blocks"
   ]
  },
  {
   "cell_type": "markdown",
   "metadata": {},
   "source": [
    "Применение \"дискретно-косинусного преобразования\""
   ]
  },
  {
   "cell_type": "code",
   "execution_count": 320,
   "metadata": {},
   "outputs": [],
   "source": [
    "# DCT\n",
    "def dct2D(block):\n",
    "\n",
    "    \"\"\"\n",
    "    Реализация 2D DCT для блока N x N.\n",
    "    :param block: входной блок размером N x N\n",
    "    :return: коэффициенты DCT размером N x N\n",
    "    \"\"\"\n",
    "\n",
    "    N = block.shape[0]\n",
    "    dct_res = np.zeros((N, N), dtype=np.float32)\n",
    "    alpha = lambda k : np.sqrt(1/N) if k == 0 else np.sqrt(2/N)\n",
    "\n",
    "    for u in range(N):\n",
    "        for v in range(N):\n",
    "            sum_value = 0.0\n",
    "            for x in range(N):\n",
    "                for y in range(N):\n",
    "                    sum_value += block[x, y] * \\\n",
    "                                 np.cos((2 * x + 1) * u * np.pi / (2 * N)) * \\\n",
    "                                 np.cos((2 * y + 1) * v * np.pi / (2 * N))\n",
    "            dct_res[u, v] = alpha(u) * alpha(v) * sum_value\n",
    "\n",
    "    return dct_res"
   ]
  },
  {
   "cell_type": "code",
   "execution_count": 321,
   "metadata": {},
   "outputs": [],
   "source": [
    "def apply_dct_to_blocks(blocks):\n",
    "    \"\"\"\n",
    "    Применить 2D DCT к каждому блоку изображения.\n",
    "    :param blocks: блоки изображения размером (H, W, block_size, block_size, channels)\n",
    "    :return: коэффициенты DCT для каждого блока\n",
    "    \"\"\"\n",
    "    H, W, block_size, _, channels = blocks.shape\n",
    "    dct_blocks = np.zeros_like(blocks, dtype=np.float32)\n",
    "\n",
    "    # Применяем DCT к каждому блоку для каждого канала\n",
    "    for i in range(H):\n",
    "        for j in range(W):\n",
    "            for c in range(channels):\n",
    "                block = blocks[i, j, :, :, c]  # Извлекаем блок для текущего канала\n",
    "                # dct_blocks[i, j, :, :, c] = dct2D(block)\n",
    "                block = np.float32(block)\n",
    "                dct_blocks[i, j, :, :, c] = cv2.dct(block)\n",
    "\n",
    "    return dct_blocks"
   ]
  },
  {
   "cell_type": "code",
   "execution_count": 322,
   "metadata": {},
   "outputs": [
    {
     "name": "stdout",
     "output_type": "stream",
     "text": [
      "time: 0.14635992050170898\n"
     ]
    }
   ],
   "source": [
    "new_im = pad_image_to_multiple(img_ycrcb, 8)\n",
    "blocks = split_into_blocs(new_im, 8)\n",
    "\n",
    "start_time = time.time()\n",
    "res = apply_dct_to_blocks(blocks)\n",
    "pad_time = time.time() - start_time\n",
    "print(\"time:\", pad_time)"
   ]
  },
  {
   "cell_type": "markdown",
   "metadata": {},
   "source": [
    "Квантование коэффициентов"
   ]
  },
  {
   "cell_type": "code",
   "execution_count": 323,
   "metadata": {},
   "outputs": [],
   "source": [
    "#Пример матриц квантования для каждого канала\n",
    "# quant_matrices = [\n",
    "#     np.array([  # Матрица для Y (яркость)\n",
    "#         [16, 11, 10, 16, 24, 40, 51, 61],\n",
    "#         [12, 12, 14, 19, 26, 58, 60, 55],\n",
    "#         [14, 13, 16, 24, 40, 57, 69, 56],\n",
    "#         [14, 17, 22, 29, 51, 87, 80, 62],\n",
    "#         [18, 22, 37, 56, 68, 109, 103, 77],\n",
    "#         [24, 35, 55, 64, 81, 104, 113, 92],\n",
    "#         [49, 64, 78, 87, 103, 121, 120, 101],\n",
    "#         [72, 92, 95, 98, 112, 100, 103, 99]\n",
    "#     ]),\n",
    "#     np.array([  # Матрица для Cb (синий компонент цветности)\n",
    "#         [17, 18, 24, 47, 99, 99, 99, 99],\n",
    "#         [18, 21, 26, 66, 99, 99, 99, 99],\n",
    "#         [24, 26, 56, 99, 99, 99, 99, 99],\n",
    "#         [47, 66, 99, 99, 99, 99, 99, 99],\n",
    "#         [99, 99, 99, 99, 99, 99, 99, 99],\n",
    "#         [99, 99, 99, 99, 99, 99, 99, 99],\n",
    "#         [99, 99, 99, 99, 99, 99, 99, 99],\n",
    "#         [99, 99, 99, 99, 99, 99, 99, 99]\n",
    "#     ]),\n",
    "#     np.array([  # Матрица для Cr (красный компонент цветности)\n",
    "#         [17, 18, 24, 47, 99, 99, 99, 99],\n",
    "#         [18, 21, 26, 66, 99, 99, 99, 99],\n",
    "#         [24, 26, 56, 99, 99, 99, 99, 99],\n",
    "#         [47, 66, 99, 99, 99, 99, 99, 99],\n",
    "#         [99, 99, 99, 99, 99, 99, 99, 99],\n",
    "#         [99, 99, 99, 99, 99, 99, 99, 99],\n",
    "#         [99, 99, 99, 99, 99, 99, 99, 99],\n",
    "#         [99, 99, 99, 99, 99, 99, 99, 99]\n",
    "#     ])\n",
    "# ]\n",
    "\n",
    "quant_matrices = [\n",
    "    np.array([  # Матрица для Y (яркость)\n",
    "        [24, 17, 15, 24, 36, 60, 77, 92],\n",
    "        [18, 18, 21, 28, 39, 87, 90, 83],\n",
    "        [21, 19, 24, 36, 60, 85, 104, 84],\n",
    "        [21, 25, 33, 44, 77, 131, 120, 93],\n",
    "        [27, 33, 56, 84, 102, 164, 154, 116],\n",
    "        [36, 52, 83, 96, 122, 157, 170, 138],\n",
    "        [73, 96, 117, 131, 154, 182, 180, 151],\n",
    "        [108, 138, 143, 147, 168, 150, 154, 148]\n",
    "    ]),\n",
    "    np.array([  # Матрица для Cb (синий компонент цветности)\n",
    "        [43, 45, 60, 117, 248, 248, 248, 248],\n",
    "        [45, 53, 66, 165, 248, 248, 248, 248],\n",
    "        [60, 66, 143, 248, 248, 248, 248, 248],\n",
    "        [117, 165, 248, 248, 248, 248, 248, 248],\n",
    "        [248, 248, 248, 248, 248, 248, 248, 248],\n",
    "        [248, 248, 248, 248, 248, 248, 248, 248],\n",
    "        [248, 248, 248, 248, 248, 248, 248, 248],\n",
    "        [248, 248, 248, 248, 248, 248, 248, 248]\n",
    "    ]),\n",
    "    np.array([  # Матрица для Cr (красный компонент цветности)\n",
    "        [43, 45, 60, 117, 248, 248, 248, 248],\n",
    "        [45, 53, 66, 165, 248, 248, 248, 248],\n",
    "        [60, 66, 143, 248, 248, 248, 248, 248],\n",
    "        [117, 165, 248, 248, 248, 248, 248, 248],\n",
    "        [248, 248, 248, 248, 248, 248, 248, 248],\n",
    "        [248, 248, 248, 248, 248, 248, 248, 248],\n",
    "        [248, 248, 248, 248, 248, 248, 248, 248],\n",
    "        [248, 248, 248, 248, 248, 248, 248, 248]\n",
    "    ])\n",
    "]"
   ]
  },
  {
   "cell_type": "code",
   "execution_count": 324,
   "metadata": {},
   "outputs": [],
   "source": [
    "# def quantize_dct_blocks(dct_blocks, quant_matrix):\n",
    "#     \"\"\"\n",
    "#     Применить квантование к каждому блоку коэффициентов DCT.\n",
    "#     :param dct_blocks: массив коэффициентов DCT (H, W, block_size, block_size, channels)\n",
    "#     :param quant_matrix: матрица квантования коэффициентов (block_size x block_size)\n",
    "#     :return: квантизированные коэффициенты\n",
    "#     \"\"\"\n",
    "#     H, W, block_size, _, channels = dct_blocks.shape\n",
    "#     quantized_blocks = np.zeros_like(dct_blocks, dtype=np.int32)\n",
    "\n",
    "#     for i in range(H):\n",
    "#         for j in range(W):\n",
    "#             for c in range(channels):\n",
    "#                 quantized_blocks[i, j, :, :, c] = np.round(dct_blocks[i, j, :, :, c] / quant_matrix)\n",
    "\n",
    "#     return quantized_blocks\n",
    "\n",
    "def quantize_dct_blocks_multi_channel(dct_blocks, quant_matrices):\n",
    "    \"\"\"\n",
    "    Применить квантование к каждому блоку коэффициентов DCT с разными матрицами для каждого канала.\n",
    "    :param dct_blocks: массив коэффициентов DCT (H, W, block_size, block_size, channels)\n",
    "    :param quant_matrices: список матриц квантования для каждого канала [(block_size x block_size), ...]\n",
    "    :return: квантованые коэффициенты\n",
    "    \"\"\"\n",
    "    H, W, block_size, _, channels = dct_blocks.shape\n",
    "    quantized_blocks = np.zeros_like(dct_blocks, dtype=np.int32)\n",
    "\n",
    "    for c in range(channels):\n",
    "        for i in range(H):\n",
    "            for j in range(W):\n",
    "                quantized_blocks[i, j, :, :, c] = np.round(dct_blocks[i, j, :, :, c] / quant_matrices[c])\n",
    "\n",
    "    return quantized_blocks\n",
    "\n",
    "# Квантуем коэффициенты\n",
    "quantized_dct_blocks = quantize_dct_blocks_multi_channel(res, quant_matrices)"
   ]
  },
  {
   "cell_type": "code",
   "execution_count": 345,
   "metadata": {},
   "outputs": [
    {
     "data": {
      "image/png": "[encoded data removed]",
      "text/plain": [
       "<Figure size 1200x600 with 2 Axes>"
      ]
     },
     "metadata": {},
     "output_type": "display_data"
    }
   ],
   "source": [
    "# Визуализация амплитуды коэффициентов DCT до и после квантования\n",
    "dct_amplitudes = np.abs(res).flatten()\n",
    "quantized_amplitudes = np.abs(quantized_dct_blocks).flatten()\n",
    "\n",
    "plt.figure(figsize=(12, 6))\n",
    "\n",
    "# Амплитуда до квантования\n",
    "plt.subplot(1, 2, 1)\n",
    "plt.hist(dct_amplitudes, bins=50, color='blue', alpha=0.7, label=\"До квантования\")\n",
    "plt.title(\"Распределение амплитуды DCT-коэффициентов до квантования\")\n",
    "plt.xlabel(\"Амплитуда DCT-коэффициентов\")\n",
    "plt.ylabel(\"Частота\")\n",
    "plt.legend()\n",
    "\n",
    "# Амплитуда после квантования\n",
    "plt.subplot(1, 2, 2)\n",
    "plt.hist(quantized_amplitudes, bins=50, color='red', alpha=0.7, label=\"После квантования\")\n",
    "plt.title(\"Распределение амплитуды DCT-коэффициентов после квантования\")\n",
    "plt.xlabel(\"Амплитуда DCT-коэффициентов\")\n",
    "plt.ylabel(\"Частота\")\n",
    "plt.legend()\n",
    "\n",
    "plt.tight_layout()\n",
    "plt.show()\n"
   ]
  },
  {
   "cell_type": "markdown",
   "metadata": {},
   "source": [
    "Дальнейшая обработка коэффициентов"
   ]
  },
  {
   "cell_type": "code",
   "execution_count": 326,
   "metadata": {},
   "outputs": [],
   "source": [
    "def zigzag_scan(block):\n",
    "    \"\"\"\n",
    "    Преобразовать 2D-блок в зигзагообразный порядок.\n",
    "    :param block: 2D массив (block_size x block_size)\n",
    "    :return: 1D массив значений в зигзагообразном порядке\n",
    "    \"\"\"\n",
    "    block_size = block.shape[0]\n",
    "    result = []\n",
    "    for i in range(2 * block_size - 1):\n",
    "        if i % 2 == 0:\n",
    "            for x in range(max(0, i - block_size + 1), min(i + 1, block_size)):\n",
    "                result.append(block[x, i - x])\n",
    "        else:\n",
    "            for x in range(max(0, i - block_size + 1), min(i + 1, block_size)):\n",
    "                result.append(block[i - x, x])\n",
    "    return result\n",
    "\n",
    "\n",
    "def zigzag_transform_blocks(quantized_blocks):\n",
    "    \"\"\"\n",
    "    Преобразовать все блоки в зигзагообразный порядок.\n",
    "    :param quantized_blocks: массив квантованных коэффициентов (H, W, block_size, block_size, channels)\n",
    "    :return: массив зигзагообразных преобразований для каждого блока\n",
    "    \"\"\"\n",
    "    H, W, block_size, _, channels = quantized_blocks.shape\n",
    "    zigzag_blocks = np.zeros((H, W, block_size * block_size, channels), dtype=np.int32)\n",
    "\n",
    "    for c in range(channels):\n",
    "        for i in range(H):\n",
    "            for j in range(W):\n",
    "                zigzag_blocks[i, j, :, c] = zigzag_scan(quantized_blocks[i, j, :, :, c])\n",
    "\n",
    "    return zigzag_blocks"
   ]
  },
  {
   "cell_type": "code",
   "execution_count": 327,
   "metadata": {},
   "outputs": [
    {
     "name": "stdout",
     "output_type": "stream",
     "text": [
      "Зигзаг для первого блока канала Y: [12  0  0  0  0  0  0  0  0  0  0  0  0  0  0  0  0  0  0  0  0  0  0  0\n",
      "  0  0  0  0  0  0  0  0  0  0  0  0  0  0  0  0  0  0  0  0  0  0  0  0\n",
      "  0  0  0  0  0  0  0  0  0  0  0  0  0  0  0  0]\n"
     ]
    }
   ],
   "source": [
    "# Преобразуем квантованные блоки\n",
    "zigzag_blocks = zigzag_transform_blocks(quantized_dct_blocks)\n",
    "print(\"Зигзаг для первого блока канала Y:\", zigzag_blocks[0, 0, :, 1])"
   ]
  },
  {
   "cell_type": "markdown",
   "metadata": {},
   "source": [
    "компрес RLE"
   ]
  },
  {
   "cell_type": "code",
   "execution_count": 328,
   "metadata": {},
   "outputs": [
    {
     "name": "stdout",
     "output_type": "stream",
     "text": [
      "[[[list([(29, 1), (0, 4), (1, 1), (0, 58)]) list([(12, 1), (0, 63)])\n",
      "   list([(29, 1), (0, 63)])]\n",
      "  [list([(30, 1), (0, 1), (-1, 1), (0, 61)]) list([(12, 1), (0, 63)])\n",
      "   list([(29, 1), (0, 63)])]\n",
      "  [list([(31, 1), (0, 63)]) list([(12, 1), (0, 63)])\n",
      "   list([(29, 1), (0, 63)])]\n",
      "  ...\n",
      "  [list([(59, 1), (0, 63)]) list([(23, 1), (0, 63)])\n",
      "   list([(21, 1), (0, 63)])]\n",
      "  [list([(59, 1), (0, 63)]) list([(23, 1), (0, 63)])\n",
      "   list([(21, 1), (0, 63)])]\n",
      "  [list([(59, 1), (0, 63)]) list([(23, 1), (0, 63)])\n",
      "   list([(21, 1), (0, 63)])]]\n",
      "\n",
      " [[list([(31, 1), (1, 1), (0, 62)]) list([(12, 1), (0, 63)])\n",
      "   list([(29, 1), (0, 63)])]\n",
      "  [list([(31, 1), (0, 63)]) list([(12, 1), (0, 63)])\n",
      "   list([(29, 1), (0, 63)])]\n",
      "  [list([(36, 1), (-3, 1), (-4, 1), (-1, 1), (2, 1), (-1, 1), (0, 2), (1, 1), (0, 55)])\n",
      "   list([(12, 1), (-1, 2), (0, 61)]) list([(28, 1), (0, 63)])]\n",
      "  ...\n",
      "  [list([(60, 1), (0, 63)]) list([(23, 1), (0, 63)])\n",
      "   list([(21, 1), (0, 63)])]\n",
      "  [list([(60, 1), (0, 63)]) list([(23, 1), (0, 63)])\n",
      "   list([(21, 1), (0, 63)])]\n",
      "  [list([(60, 1), (0, 63)]) list([(23, 1), (0, 63)])\n",
      "   list([(21, 1), (0, 63)])]]\n",
      "\n",
      " [[list([(30, 1), (0, 63)]) list([(12, 1), (0, 63)])\n",
      "   list([(29, 1), (0, 63)])]\n",
      "  [list([(30, 1), (0, 1), (-1, 1), (0, 61)]) list([(12, 1), (0, 63)])\n",
      "   list([(29, 1), (0, 63)])]\n",
      "  [list([(33, 1), (-1, 2), (0, 2), (1, 1), (0, 1), (-1, 1), (0, 56)])\n",
      "   list([(11, 1), (0, 63)]) list([(29, 1), (0, 63)])]\n",
      "  ...\n",
      "  [list([(60, 1), (0, 63)]) list([(23, 1), (0, 63)])\n",
      "   list([(21, 1), (0, 63)])]\n",
      "  [list([(60, 1), (0, 63)]) list([(23, 1), (0, 63)])\n",
      "   list([(21, 1), (0, 63)])]\n",
      "  [list([(60, 1), (0, 63)]) list([(23, 1), (0, 63)])\n",
      "   list([(21, 1), (0, 63)])]]\n",
      "\n",
      " ...\n",
      "\n",
      " [[list([(24, 1), (0, 1), (3, 1), (1, 1), (4, 2), (0, 1), (-3, 1), (-2, 1), (-1, 1), (0, 1), (1, 1), (0, 1), (-2, 1), (-1, 1), (0, 1), (1, 2), (0, 1), (1, 1), (0, 44)])\n",
      "   list([(20, 1), (-2, 1), (-1, 1), (0, 1), (-1, 1), (1, 1), (0, 58)])\n",
      "   list([(19, 1), (1, 1), (0, 2), (-1, 2), (0, 58)])]\n",
      "  [list([(16, 1), (4, 2), (2, 1), (-6, 1), (5, 1), (0, 1), (2, 1), (-2, 1), (1, 1), (0, 1), (-1, 1), (1, 2), (-1, 2), (0, 48)])\n",
      "   list([(21, 1), (1, 1), (0, 2), (1, 1), (0, 59)])\n",
      "   list([(21, 1), (1, 1), (-1, 1), (0, 1), (1, 1), (0, 59)])]\n",
      "  [list([(21, 1), (-1, 2), (-2, 1), (3, 1), (2, 1), (0, 1), (-1, 1), (0, 1), (-1, 1), (0, 1), (1, 2), (-2, 1), (1, 1), (0, 3), (1, 2), (0, 5), (-1, 2), (0, 37)])\n",
      "   list([(20, 1), (1, 1), (0, 62)]) list([(19, 1), (1, 2), (0, 61)])]\n",
      "  ...\n",
      "  [list([(4, 1), (-5, 1), (3, 1), (2, 1), (-4, 1), (3, 1), (-1, 1), (2, 1), (-1, 1), (-2, 1), (-1, 1), (2, 1), (1, 1), (-1, 1), (0, 4), (-1, 1), (2, 1), (-1, 1), (0, 1), (1, 1), (-1, 1), (1, 1), (0, 39)])\n",
      "   list([(25, 1), (-1, 1), (1, 1), (0, 1), (-1, 1), (0, 2), (1, 1), (0, 56)])\n",
      "   list([(23, 1), (1, 1), (-1, 1), (0, 1), (1, 1), (-1, 1), (0, 58)])]\n",
      "  [list([(5, 1), (-2, 3), (-1, 1), (-2, 1), (0, 1), (2, 1), (1, 2), (0, 1), (-1, 1), (0, 1), (1, 1), (0, 50)])\n",
      "   list([(23, 1), (0, 63)]) list([(23, 1), (0, 63)])]\n",
      "  [list([(7, 1), (1, 1), (-1, 1), (0, 2), (-1, 1), (0, 2), (-2, 1), (-1, 1), (0, 4), (1, 1), (0, 1), (1, 1), (0, 47)])\n",
      "   list([(22, 1), (0, 63)]) list([(22, 1), (0, 63)])]]\n",
      "\n",
      " [[list([(25, 1), (4, 1), (0, 1), (1, 1), (0, 1), (-2, 1), (0, 4), (1, 1), (0, 1), (-1, 1), (0, 51)])\n",
      "   list([(23, 1), (2, 1), (0, 62)]) list([(17, 1), (-1, 1), (0, 62)])]\n",
      "  [list([(22, 1), (1, 1), (3, 1), (1, 1), (4, 1), (-2, 1), (-1, 2), (2, 1), (0, 2), (-1, 1), (0, 7), (-1, 1), (0, 44)])\n",
      "   list([(19, 1), (0, 1), (1, 1), (0, 61)])\n",
      "   list([(18, 1), (0, 1), (-1, 1), (0, 1), (-1, 1), (0, 59)])]\n",
      "  [list([(23, 1), (2, 1), (-3, 1), (1, 2), (0, 2), (1, 1), (-1, 1), (-2, 1), (1, 4), (0, 2), (-1, 2), (0, 46)])\n",
      "   list([(19, 1), (-2, 2), (1, 1), (0, 60)])\n",
      "   list([(18, 1), (-1, 1), (0, 62)])]\n",
      "  ...\n",
      "  [list([(17, 1), (4, 1), (15, 1), (0, 1), (6, 1), (-6, 1), (2, 1), (-8, 1), (0, 1), (-7, 1), (-4, 1), (-1, 1), (-2, 1), (1, 1), (2, 1), (0, 1), (1, 1), (0, 2), (-2, 1), (-1, 1), (1, 1), (-1, 1), (0, 2), (1, 1), (-1, 1), (0, 4), (1, 1), (0, 2), (-1, 1), (1, 1), (0, 28)])\n",
      "   list([(26, 1), (1, 1), (2, 1), (0, 1), (1, 1), (0, 59)])\n",
      "   list([(19, 1), (-1, 1), (-4, 1), (0, 1), (-1, 1), (1, 1), (0, 1), (1, 1), (0, 1), (1, 1), (0, 54)])]\n",
      "  [list([(4, 1), (-1, 1), (0, 1), (1, 1), (-1, 1), (0, 2), (1, 1), (-1, 1), (0, 55)])\n",
      "   list([(23, 1), (0, 63)]) list([(23, 1), (0, 63)])]\n",
      "  [list([(6, 1), (-1, 1), (0, 5), (1, 2), (0, 55)])\n",
      "   list([(22, 1), (0, 63)]) list([(22, 1), (0, 63)])]]\n",
      "\n",
      " [[list([(19, 1), (-4, 1), (-2, 1), (3, 1), (2, 1), (0, 1), (-1, 1), (1, 2), (0, 1), (1, 1), (0, 1), (-3, 1), (2, 1), (0, 3), (-1, 1), (0, 46)])\n",
      "   list([(21, 1), (0, 4), (-1, 1), (0, 58)])\n",
      "   list([(19, 1), (1, 1), (0, 62)])]\n",
      "  [list([(26, 1), (-4, 1), (-2, 2), (0, 1), (-1, 1), (0, 2), (-3, 1), (2, 1), (1, 1), (0, 1), (-1, 1), (1, 1), (0, 50)])\n",
      "   list([(18, 1), (0, 3), (1, 1), (0, 2), (-1, 1), (0, 56)])\n",
      "   list([(18, 1), (1, 1), (0, 62)])]\n",
      "  [list([(24, 1), (-7, 1), (-6, 1), (4, 1), (-5, 1), (2, 1), (-1, 1), (0, 1), (1, 1), (0, 2), (-1, 1), (0, 1), (1, 1), (0, 4), (-2, 1), (0, 45)])\n",
      "   list([(19, 1), (2, 1), (0, 2), (-1, 1), (1, 1), (0, 58)])\n",
      "   list([(18, 1), (1, 2), (0, 1), (1, 1), (0, 59)])]\n",
      "  ...\n",
      "  [list([(5, 1), (1, 1), (-2, 1), (1, 2), (0, 3), (-1, 1), (0, 4), (-1, 1), (0, 50)])\n",
      "   list([(23, 1), (0, 1), (1, 1), (0, 61)]) list([(23, 1), (0, 63)])]\n",
      "  [list([(5, 1), (-1, 1), (2, 1), (1, 1), (0, 1), (-1, 1), (0, 1), (1, 1), (0, 5), (1, 1), (0, 50)])\n",
      "   list([(22, 1), (0, 63)]) list([(23, 1), (0, 63)])]\n",
      "  [list([(5, 1), (0, 1), (2, 1), (0, 2), (-1, 1), (0, 58)])\n",
      "   list([(22, 1), (0, 63)]) list([(23, 1), (0, 63)])]]]\n"
     ]
    }
   ],
   "source": [
    "def rle_encode(array):\n",
    "    \"\"\"\n",
    "    Применить RLE-кодирование к массиву.\n",
    "    :param array: входной одномерный массив\n",
    "    :return: массив пар (значение, количество)\n",
    "    \"\"\"\n",
    "    encoded = []\n",
    "    prev_value = array[0]\n",
    "    count = 1\n",
    "    for value in array[1:]:\n",
    "        if value == prev_value:\n",
    "            count += 1\n",
    "        else:\n",
    "            encoded.append((prev_value, count))\n",
    "            prev_value = value\n",
    "            count = 1\n",
    "    encoded.append((prev_value, count))  # Добавить последний элемент\n",
    "    return encoded\n",
    "\n",
    "# Пример кодирования одного блока\n",
    "# zigzag_flatten = zigzag_blocks[0, 0, :, 0]  # Первый блок первого канала\n",
    "# rle_result = rle_encode(zigzag_flatten)\n",
    "# print(rle_result)\n",
    "\n",
    "\n",
    "\n",
    "def apply_rle_to_all_blocks(zigzag_blocks):\n",
    "    \"\"\"\n",
    "    Применить RLE-кодирование ко всем зигзагообразным блокам.\n",
    "    :param zigzag_blocks: массив зигзагообразных преобразований (H, W, block_size^2, channels)\n",
    "    :return: массив RLE-кодированных блоков\n",
    "    \"\"\"\n",
    "    H, W, block_size_sq, channels = zigzag_blocks.shape\n",
    "    rle_encoded_blocks = np.empty((H, W, channels), dtype=object)\n",
    "\n",
    "    for c in range(channels):\n",
    "        for i in range(H):\n",
    "            for j in range(W):\n",
    "                rle_encoded_blocks[i, j, c] = rle_encode(zigzag_blocks[i, j, :, c])\n",
    "\n",
    "    return rle_encoded_blocks\n",
    "\n",
    "# Применение RLE ко всем блокам\n",
    "rle_encoded_blocks = apply_rle_to_all_blocks(zigzag_blocks)\n",
    "\n",
    "# Пример: вывод результата для первого блока первого канала\n",
    "print(rle_encoded_blocks)"
   ]
  },
  {
   "cell_type": "code",
   "execution_count": 329,
   "metadata": {},
   "outputs": [
    {
     "name": "stdout",
     "output_type": "stream",
     "text": [
      "Восстановленные RLE-блоки:\n",
      "[[[list([(29, 1), (0, 4), (1, 1), (0, 58)]) list([(12, 1), (0, 63)])\n",
      "   list([(29, 1), (0, 63)])]\n",
      "  [list([(30, 1), (0, 1), (-1, 1), (0, 61)]) list([(12, 1), (0, 63)])\n",
      "   list([(29, 1), (0, 63)])]\n",
      "  [list([(31, 1), (0, 63)]) list([(12, 1), (0, 63)])\n",
      "   list([(29, 1), (0, 63)])]\n",
      "  ...\n",
      "  [list([(59, 1), (0, 63)]) list([(23, 1), (0, 63)])\n",
      "   list([(21, 1), (0, 63)])]\n",
      "  [list([(59, 1), (0, 63)]) list([(23, 1), (0, 63)])\n",
      "   list([(21, 1), (0, 63)])]\n",
      "  [list([(59, 1), (0, 63)]) list([(23, 1), (0, 63)])\n",
      "   list([(21, 1), (0, 63)])]]\n",
      "\n",
      " [[list([(31, 1), (1, 1), (0, 62)]) list([(12, 1), (0, 63)])\n",
      "   list([(29, 1), (0, 63)])]\n",
      "  [list([(31, 1), (0, 63)]) list([(12, 1), (0, 63)])\n",
      "   list([(29, 1), (0, 63)])]\n",
      "  [list([(36, 1), (-3, 1), (-4, 1), (-1, 1), (2, 1), (-1, 1), (0, 2), (1, 1), (0, 55)])\n",
      "   list([(12, 1), (-1, 2), (0, 61)]) list([(28, 1), (0, 63)])]\n",
      "  ...\n",
      "  [list([(60, 1), (0, 63)]) list([(23, 1), (0, 63)])\n",
      "   list([(21, 1), (0, 63)])]\n",
      "  [list([(60, 1), (0, 63)]) list([(23, 1), (0, 63)])\n",
      "   list([(21, 1), (0, 63)])]\n",
      "  [list([(60, 1), (0, 63)]) list([(23, 1), (0, 63)])\n",
      "   list([(21, 1), (0, 63)])]]\n",
      "\n",
      " [[list([(30, 1), (0, 63)]) list([(12, 1), (0, 63)])\n",
      "   list([(29, 1), (0, 63)])]\n",
      "  [list([(30, 1), (0, 1), (-1, 1), (0, 61)]) list([(12, 1), (0, 63)])\n",
      "   list([(29, 1), (0, 63)])]\n",
      "  [list([(33, 1), (-1, 2), (0, 2), (1, 1), (0, 1), (-1, 1), (0, 56)])\n",
      "   list([(11, 1), (0, 63)]) list([(29, 1), (0, 63)])]\n",
      "  ...\n",
      "  [list([(60, 1), (0, 63)]) list([(23, 1), (0, 63)])\n",
      "   list([(21, 1), (0, 63)])]\n",
      "  [list([(60, 1), (0, 63)]) list([(23, 1), (0, 63)])\n",
      "   list([(21, 1), (0, 63)])]\n",
      "  [list([(60, 1), (0, 63)]) list([(23, 1), (0, 63)])\n",
      "   list([(21, 1), (0, 63)])]]\n",
      "\n",
      " ...\n",
      "\n",
      " [[list([(24, 1), (0, 1), (3, 1), (1, 1), (4, 2), (0, 1), (-3, 1), (-2, 1), (-1, 1), (0, 1), (1, 1), (0, 1), (-2, 1), (-1, 1), (0, 1), (1, 2), (0, 1), (1, 1), (0, 44)])\n",
      "   list([(20, 1), (-2, 1), (-1, 1), (0, 1), (-1, 1), (1, 1), (0, 58)])\n",
      "   list([(19, 1), (1, 1), (0, 2), (-1, 2), (0, 58)])]\n",
      "  [list([(16, 1), (4, 2), (2, 1), (-6, 1), (5, 1), (0, 1), (2, 1), (-2, 1), (1, 1), (0, 1), (-1, 1), (1, 2), (-1, 2), (0, 48)])\n",
      "   list([(21, 1), (1, 1), (0, 2), (1, 1), (0, 59)])\n",
      "   list([(21, 1), (1, 1), (-1, 1), (0, 1), (1, 1), (0, 59)])]\n",
      "  [list([(21, 1), (-1, 2), (-2, 1), (3, 1), (2, 1), (0, 1), (-1, 1), (0, 1), (-1, 1), (0, 1), (1, 2), (-2, 1), (1, 1), (0, 3), (1, 2), (0, 5), (-1, 2), (0, 37)])\n",
      "   list([(20, 1), (1, 1), (0, 62)]) list([(19, 1), (1, 2), (0, 61)])]\n",
      "  ...\n",
      "  [list([(4, 1), (-5, 1), (3, 1), (2, 1), (-4, 1), (3, 1), (-1, 1), (2, 1), (-1, 1), (-2, 1), (-1, 1), (2, 1), (1, 1), (-1, 1), (0, 4), (-1, 1), (2, 1), (-1, 1), (0, 1), (1, 1), (-1, 1), (1, 1), (0, 39)])\n",
      "   list([(25, 1), (-1, 1), (1, 1), (0, 1), (-1, 1), (0, 2), (1, 1), (0, 56)])\n",
      "   list([(23, 1), (1, 1), (-1, 1), (0, 1), (1, 1), (-1, 1), (0, 58)])]\n",
      "  [list([(5, 1), (-2, 3), (-1, 1), (-2, 1), (0, 1), (2, 1), (1, 2), (0, 1), (-1, 1), (0, 1), (1, 1), (0, 50)])\n",
      "   list([(23, 1), (0, 63)]) list([(23, 1), (0, 63)])]\n",
      "  [list([(7, 1), (1, 1), (-1, 1), (0, 2), (-1, 1), (0, 2), (-2, 1), (-1, 1), (0, 4), (1, 1), (0, 1), (1, 1), (0, 47)])\n",
      "   list([(22, 1), (0, 63)]) list([(22, 1), (0, 63)])]]\n",
      "\n",
      " [[list([(25, 1), (4, 1), (0, 1), (1, 1), (0, 1), (-2, 1), (0, 4), (1, 1), (0, 1), (-1, 1), (0, 51)])\n",
      "   list([(23, 1), (2, 1), (0, 62)]) list([(17, 1), (-1, 1), (0, 62)])]\n",
      "  [list([(22, 1), (1, 1), (3, 1), (1, 1), (4, 1), (-2, 1), (-1, 2), (2, 1), (0, 2), (-1, 1), (0, 7), (-1, 1), (0, 44)])\n",
      "   list([(19, 1), (0, 1), (1, 1), (0, 61)])\n",
      "   list([(18, 1), (0, 1), (-1, 1), (0, 1), (-1, 1), (0, 59)])]\n",
      "  [list([(23, 1), (2, 1), (-3, 1), (1, 2), (0, 2), (1, 1), (-1, 1), (-2, 1), (1, 4), (0, 2), (-1, 2), (0, 46)])\n",
      "   list([(19, 1), (-2, 2), (1, 1), (0, 60)])\n",
      "   list([(18, 1), (-1, 1), (0, 62)])]\n",
      "  ...\n",
      "  [list([(17, 1), (4, 1), (15, 1), (0, 1), (6, 1), (-6, 1), (2, 1), (-8, 1), (0, 1), (-7, 1), (-4, 1), (-1, 1), (-2, 1), (1, 1), (2, 1), (0, 1), (1, 1), (0, 2), (-2, 1), (-1, 1), (1, 1), (-1, 1), (0, 2), (1, 1), (-1, 1), (0, 4), (1, 1), (0, 2), (-1, 1), (1, 1), (0, 28)])\n",
      "   list([(26, 1), (1, 1), (2, 1), (0, 1), (1, 1), (0, 59)])\n",
      "   list([(19, 1), (-1, 1), (-4, 1), (0, 1), (-1, 1), (1, 1), (0, 1), (1, 1), (0, 1), (1, 1), (0, 54)])]\n",
      "  [list([(4, 1), (-1, 1), (0, 1), (1, 1), (-1, 1), (0, 2), (1, 1), (-1, 1), (0, 55)])\n",
      "   list([(23, 1), (0, 63)]) list([(23, 1), (0, 63)])]\n",
      "  [list([(6, 1), (-1, 1), (0, 5), (1, 2), (0, 55)])\n",
      "   list([(22, 1), (0, 63)]) list([(22, 1), (0, 63)])]]\n",
      "\n",
      " [[list([(19, 1), (-4, 1), (-2, 1), (3, 1), (2, 1), (0, 1), (-1, 1), (1, 2), (0, 1), (1, 1), (0, 1), (-3, 1), (2, 1), (0, 3), (-1, 1), (0, 46)])\n",
      "   list([(21, 1), (0, 4), (-1, 1), (0, 58)])\n",
      "   list([(19, 1), (1, 1), (0, 62)])]\n",
      "  [list([(26, 1), (-4, 1), (-2, 2), (0, 1), (-1, 1), (0, 2), (-3, 1), (2, 1), (1, 1), (0, 1), (-1, 1), (1, 1), (0, 50)])\n",
      "   list([(18, 1), (0, 3), (1, 1), (0, 2), (-1, 1), (0, 56)])\n",
      "   list([(18, 1), (1, 1), (0, 62)])]\n",
      "  [list([(24, 1), (-7, 1), (-6, 1), (4, 1), (-5, 1), (2, 1), (-1, 1), (0, 1), (1, 1), (0, 2), (-1, 1), (0, 1), (1, 1), (0, 4), (-2, 1), (0, 45)])\n",
      "   list([(19, 1), (2, 1), (0, 2), (-1, 1), (1, 1), (0, 58)])\n",
      "   list([(18, 1), (1, 2), (0, 1), (1, 1), (0, 59)])]\n",
      "  ...\n",
      "  [list([(5, 1), (1, 1), (-2, 1), (1, 2), (0, 3), (-1, 1), (0, 4), (-1, 1), (0, 50)])\n",
      "   list([(23, 1), (0, 1), (1, 1), (0, 61)]) list([(23, 1), (0, 63)])]\n",
      "  [list([(5, 1), (-1, 1), (2, 1), (1, 1), (0, 1), (-1, 1), (0, 1), (1, 1), (0, 5), (1, 1), (0, 50)])\n",
      "   list([(22, 1), (0, 63)]) list([(23, 1), (0, 63)])]\n",
      "  [list([(5, 1), (0, 1), (2, 1), (0, 2), (-1, 1), (0, 58)])\n",
      "   list([(22, 1), (0, 63)]) list([(23, 1), (0, 63)])]]]\n"
     ]
    }
   ],
   "source": [
    "def optimize_rle_blocks(rle_encoded_blocks):\n",
    "    \"\"\"\n",
    "    Уменьшить количество дублирующихся данных в RLE-кодированных блоках.\n",
    "    :param rle_encoded_blocks: массив RLE-кодированных блоков\n",
    "    :return: (уникальные элементы, индексы)\n",
    "    \"\"\"\n",
    "    # Преобразуем массив в плоский список\n",
    "    flat_list = rle_encoded_blocks.flatten()\n",
    "    \n",
    "    # Найдем уникальные элементы\n",
    "    unique_blocks, inverse_indices = np.unique(flat_list, return_inverse=True)\n",
    "    \n",
    "    # Восстановим оригинальную форму с индексами уникальных элементов\n",
    "    indices = inverse_indices.reshape(rle_encoded_blocks.shape)\n",
    "    \n",
    "    return unique_blocks, indices\n",
    "\n",
    "def restore_rle_blocks(unique_blocks, indices):\n",
    "    \"\"\"\n",
    "    Восстановить исходные RLE-кодированные блоки из уникальных элементов и индексов.\n",
    "    :param unique_blocks: уникальные элементы\n",
    "    :param indices: индексы\n",
    "    :return: восстановленные RLE-блоки\n",
    "    \"\"\"\n",
    "    # Восстановим плоский список с индексами\n",
    "    restored_flat_list = unique_blocks[indices.flatten()]\n",
    "    \n",
    "    # Восстановим исходную форму\n",
    "    restored_rle_blocks = restored_flat_list.reshape(indices.shape)\n",
    "    \n",
    "    return restored_rle_blocks\n",
    "\n",
    "# Применение оптимизации\n",
    "unique_blocks, indices = optimize_rle_blocks(rle_encoded_blocks)\n",
    "\n",
    "\n",
    "\n",
    "# Восстановление исходных блоков\n",
    "restored_rle_blocks = restore_rle_blocks(unique_blocks, indices)\n",
    "\n",
    "# Пример вывода\n",
    "print(\"Восстановленные RLE-блоки:\")\n",
    "print(restored_rle_blocks)"
   ]
  },
  {
   "cell_type": "code",
   "execution_count": 330,
   "metadata": {},
   "outputs": [
    {
     "name": "stdout",
     "output_type": "stream",
     "text": [
      "Общий размер массивов unique_blocks и indices: 257.82 KB\n"
     ]
    }
   ],
   "source": [
    "# Размер массива unique_blocks в байтах\n",
    "size_in_bytes_unique = unique_blocks.nbytes\n",
    "\n",
    "# Размер массива indices в байтах\n",
    "size_in_bytes_indices = indices.nbytes\n",
    "\n",
    "# Общий размер в байтах\n",
    "total_size_in_bytes = size_in_bytes_unique + size_in_bytes_indices\n",
    "\n",
    "# Перевести общий размер в килобайты\n",
    "total_size_in_kb = total_size_in_bytes / 1024\n",
    "\n",
    "print(f\"Общий размер массивов unique_blocks и indices: {total_size_in_kb:.2f} KB\")"
   ]
  },
  {
   "cell_type": "code",
   "execution_count": 331,
   "metadata": {},
   "outputs": [
    {
     "name": "stdout",
     "output_type": "stream",
     "text": [
      "Размер RLE-кодированного массива: 2763104 байт (2698.34 KB)\n"
     ]
    }
   ],
   "source": [
    "# Подсчет памяти для массива RLE-кодированных блоков\n",
    "def calculate_memory_size(rle_encoded_blocks):\n",
    "    total_size = 0\n",
    "    for i in range(rle_encoded_blocks.shape[0]):\n",
    "        for j in range(rle_encoded_blocks.shape[1]):\n",
    "            for c in range(rle_encoded_blocks.shape[2]):\n",
    "                total_size += sys.getsizeof(rle_encoded_blocks[i, j, c])\n",
    "    return total_size\n",
    "\n",
    "memory_size_bytes = calculate_memory_size(rle_encoded_blocks)\n",
    "memory_size_kb = memory_size_bytes / 1024\n",
    "print(f\"Размер RLE-кодированного массива: {memory_size_bytes} байт ({memory_size_kb:.2f} KB)\")"
   ]
  },
  {
   "cell_type": "markdown",
   "metadata": {},
   "source": [
    "Декомпрессия RLE"
   ]
  },
  {
   "cell_type": "code",
   "execution_count": 332,
   "metadata": {},
   "outputs": [],
   "source": [
    "def rle_decode(rle_data):\n",
    "    \"\"\"\n",
    "    Декодировать массив, закодированный с помощью RLE.\n",
    "    :param rle_data: массив пар (значение, количество)\n",
    "    :return: декодированный 1D массив\n",
    "    \"\"\"\n",
    "    decoded = []\n",
    "    for value, count in rle_data:\n",
    "        decoded.extend([value] * count)\n",
    "    return decoded"
   ]
  },
  {
   "cell_type": "code",
   "execution_count": 333,
   "metadata": {},
   "outputs": [],
   "source": [
    "def decode_rle_from_all_blocks(rle_encoded_blocks):\n",
    "    \"\"\"\n",
    "    Применить декодирование RLE ко всем блокам.\n",
    "    :param rle_encoded_blocks: массив RLE-кодированных блоков (H, W, channels)\n",
    "    :return: массив зигзагообразных блоков (H, W, block_size^2, channels)\n",
    "    \"\"\"\n",
    "    H, W, channels = rle_encoded_blocks.shape\n",
    "    # Предполагаем, что блокы квадратные и имеют одинаковый размер\n",
    "    # Восстанавливаем размерность на основе количества элементов в одном блоке\n",
    "    block_size_sq = len(rle_decode(rle_encoded_blocks[0, 0, 0]))\n",
    "    zigzag_blocks = np.zeros((H, W, block_size_sq, channels), dtype=np.int32)\n",
    "\n",
    "    for c in range(channels):\n",
    "        for i in range(H):\n",
    "            for j in range(W):\n",
    "                zigzag_blocks[i, j, :, c] = rle_decode(rle_encoded_blocks[i, j, c])\n",
    "\n",
    "    return zigzag_blocks\n"
   ]
  },
  {
   "cell_type": "code",
   "execution_count": 334,
   "metadata": {},
   "outputs": [
    {
     "name": "stdout",
     "output_type": "stream",
     "text": [
      "Декодированный первый блок (первый канал):\n",
      "[29  0  0  0  0  1  0  0  0  0  0  0  0  0  0  0  0  0  0  0  0  0  0  0\n",
      "  0  0  0  0  0  0  0  0  0  0  0  0  0  0  0  0  0  0  0  0  0  0  0  0\n",
      "  0  0  0  0  0  0  0  0  0  0  0  0  0  0  0  0]\n"
     ]
    }
   ],
   "source": [
    "# Декодируем все блоки\n",
    "decoded_zigzag_blocks = decode_rle_from_all_blocks(rle_encoded_blocks)\n",
    "\n",
    "# Проверим восстановление первого блока первого канала\n",
    "print(\"Декодированный первый блок (первый канал):\")\n",
    "print(decoded_zigzag_blocks[0, 0, :, 0])"
   ]
  },
  {
   "cell_type": "code",
   "execution_count": 335,
   "metadata": {},
   "outputs": [],
   "source": [
    "def inverse_zigzag_scan(zigzag_array, block_size):\n",
    "    \"\"\"\n",
    "    Преобразовать 1D-массив из зигзагообразного порядка обратно в 2D-блок.\n",
    "    :param zigzag_array: 1D массив значений\n",
    "    :param block_size: размер блока (block_size x block_size)\n",
    "    :return: 2D массив\n",
    "    \"\"\"\n",
    "    block = np.zeros((block_size, block_size), dtype=np.int32)\n",
    "    index = 0\n",
    "    for i in range(2 * block_size - 1):\n",
    "        if i % 2 == 0:\n",
    "            for x in range(max(0, i - block_size + 1), min(i + 1, block_size)):\n",
    "                block[x, i - x] = zigzag_array[index]\n",
    "                index += 1\n",
    "        else:\n",
    "            for x in range(max(0, i - block_size + 1), min(i + 1, block_size)):\n",
    "                block[i - x, x] = zigzag_array[index]\n",
    "                index += 1\n",
    "    return block"
   ]
  },
  {
   "cell_type": "code",
   "execution_count": 336,
   "metadata": {},
   "outputs": [],
   "source": [
    "def inverse_zigzag_transform_blocks(zigzag_blocks, block_size):\n",
    "    \"\"\"\n",
    "    Преобразовать все блоки из зигзагообразного порядка обратно в 2D.\n",
    "    :param zigzag_blocks: массив зигзагообразных преобразований (H, W, block_size*block_size, channels)\n",
    "    :param block_size: размер блока (block_size x block_size)\n",
    "    :return: массив блоков (H, W, block_size, block_size, channels)\n",
    "    \"\"\"\n",
    "    H, W, _, channels = zigzag_blocks.shape\n",
    "    blocks = np.zeros((H, W, block_size, block_size, channels), dtype=np.int32)\n",
    "\n",
    "    for c in range(channels):\n",
    "        for i in range(H):\n",
    "            for j in range(W):\n",
    "                blocks[i, j, :, :, c] = inverse_zigzag_scan(zigzag_blocks[i, j, :, c], block_size)\n",
    "    print(blocks.shape)\n",
    "    return blocks"
   ]
  },
  {
   "cell_type": "code",
   "execution_count": 337,
   "metadata": {},
   "outputs": [],
   "source": [
    "def dequantize_blocks(quantized_blocks, quant_matrices):\n",
    "    \"\"\"\n",
    "    Восстановить коэффициенты DCT из квантованных значений.\n",
    "    :param quantized_blocks: массив квантованных коэффициентов (H, W, block_size, block_size, channels)\n",
    "    :param quant_matrices: список матриц квантования для каждого канала\n",
    "    :return: массив деквантованных коэффициентов DCT\n",
    "    \"\"\"\n",
    "    print(quantized_blocks.shape)\n",
    "    H, W, block_size, _, channels = quantized_blocks.shape\n",
    "    dct_blocks = np.zeros_like(quantized_blocks, dtype=np.float32)\n",
    "\n",
    "    for c in range(channels):\n",
    "        for i in range(H):\n",
    "            for j in range(W):\n",
    "                dct_blocks[i, j, :, :, c] = quantized_blocks[i, j, :, :, c] * quant_matrices[c]\n",
    "\n",
    "    return dct_blocks"
   ]
  },
  {
   "cell_type": "code",
   "execution_count": 338,
   "metadata": {},
   "outputs": [],
   "source": [
    "def idct2D(block):\n",
    "    \"\"\"\n",
    "    Реализация 2D IDCT для блока N x N.\n",
    "    :param block: входной блок коэффициентов DCT размером N x N\n",
    "    :return: восстановленный блок пикселей\n",
    "    \"\"\"\n",
    "    N = block.shape[0]\n",
    "    idct_res = np.zeros((N, N), dtype=np.float32)\n",
    "    alpha = lambda k: np.sqrt(1 / N) if k == 0 else np.sqrt(2 / N)\n",
    "\n",
    "    for x in range(N):\n",
    "        for y in range(N):\n",
    "            sum_value = 0.0\n",
    "            for u in range(N):\n",
    "                for v in range(N):\n",
    "                    sum_value += alpha(u) * alpha(v) * block[u, v] * \\\n",
    "                                 np.cos((2 * x + 1) * u * np.pi / (2 * N)) * \\\n",
    "                                 np.cos((2 * y + 1) * v * np.pi / (2 * N))\n",
    "            idct_res[x, y] = sum_value\n",
    "\n",
    "    return idct_res"
   ]
  },
  {
   "cell_type": "code",
   "execution_count": 339,
   "metadata": {},
   "outputs": [],
   "source": [
    "def apply_idct_to_blocks(dct_blocks):\n",
    "    \"\"\"\n",
    "    Применить 2D IDCT к каждому блоку коэффициентов DCT.\n",
    "    :param dct_blocks: массив коэффициентов DCT (H, W, block_size, block_size, channels)\n",
    "    :return: восстановленные блоки пикселей\n",
    "    \"\"\"\n",
    "    H, W, block_size, _, channels = dct_blocks.shape\n",
    "    img_blocks = np.zeros_like(dct_blocks, dtype=np.float32)\n",
    "\n",
    "    for i in range(H):\n",
    "        for j in range(W):\n",
    "            for c in range(channels):\n",
    "                block = dct_blocks[i, j, :, :, c]  # Извлекаем блок для текущего канала\n",
    "                # img_blocks[i, j, :, :, c] = idct2D(block)\n",
    "                img_blocks[i, j, :, :, c] = cv2.idct(block)\n",
    "\n",
    "    return img_blocks"
   ]
  },
  {
   "cell_type": "code",
   "execution_count": 340,
   "metadata": {},
   "outputs": [],
   "source": [
    "def merge_blocks(blocks, original_shape):\n",
    "    \"\"\"\n",
    "    Собрать изображение из блоков.\n",
    "    :param blocks: массив блоков (H, W, block_size, block_size, channels)\n",
    "    :param original_shape: исходный размер изображения (h, w, channels)\n",
    "    :return: восстановленное изображение\n",
    "    \"\"\"\n",
    "    H, W, block_size, _, channels = blocks.shape\n",
    "    h, w, _ = original_shape\n",
    "\n",
    "    img = np.zeros((H * block_size, W * block_size, channels), dtype=np.uint8)\n",
    "\n",
    "    for i in range(H):\n",
    "        for j in range(W):\n",
    "            img[i * block_size:(i + 1) * block_size, j * block_size:(j + 1) * block_size, :] = blocks[i, j]\n",
    "\n",
    "    return img[:h, :w]  # Обрезаем до исходного размера"
   ]
  },
  {
   "cell_type": "code",
   "execution_count": 341,
   "metadata": {},
   "outputs": [
    {
     "name": "stdout",
     "output_type": "stream",
     "text": [
      "(75, 100, 8, 8, 3)\n",
      "(75, 100, 8, 8, 3)\n"
     ]
    }
   ],
   "source": [
    "# Восстановление изображения:\n",
    "# zigzag_blocks = zigzag_transform_blocks(quantized_dct_blocks)\n",
    "zigzag_blocks = inverse_zigzag_transform_blocks(decoded_zigzag_blocks, 8)\n",
    "dct_blocks = dequantize_blocks(zigzag_blocks, quant_matrices)\n",
    "img_blocks = apply_idct_to_blocks(dct_blocks)\n",
    "reconstructed_image = merge_blocks(img_blocks, img_ycrcb.shape)"
   ]
  },
  {
   "cell_type": "code",
   "execution_count": 342,
   "metadata": {},
   "outputs": [
    {
     "data": {
      "text/plain": [
       "True"
      ]
     },
     "execution_count": 342,
     "metadata": {},
     "output_type": "execute_result"
    }
   ],
   "source": [
    "# Преобразование YCrCb в BGR (если формат YCrCb)\n",
    "reconstructed_bgr = cv2.cvtColor(reconstructed_image, cv2.COLOR_YCrCb2BGR)\n",
    "\n",
    "# Показать изображение\n",
    "cv2.imshow(\"Reconstructed Image\", reconstructed_bgr)\n",
    "cv2.waitKey(0)\n",
    "cv2.destroyAllWindows()\n",
    "\n",
    "# Сохранить изображение\n",
    "cv2.imwrite(\"reconstructed_image.png\", reconstructed_bgr)"
   ]
  },
  {
   "cell_type": "markdown",
   "metadata": {},
   "source": [
    "Визуализация паттернов высокой и низкой частоты, отображающие энергию и структуру каждого блока."
   ]
  },
  {
   "cell_type": "code",
   "execution_count": 343,
   "metadata": {},
   "outputs": [],
   "source": [
    "def normalize_block(block):\n",
    "\n",
    "    block = np.abs(block)\n",
    "    norm_block = 255 * (block - block.min() / (block.max() - block.min()))\n",
    "    return norm_block\n",
    "\n",
    "def reconstruct_img_frec(blocks):\n",
    "\n",
    "    H, W, block_size, _, channals = blocks.shape\n",
    "\n",
    "    h = H * block_size\n",
    "    w = W * block_size\n",
    "\n",
    "    image = np.zeros((h, w, channals), dtype=np.uint8)\n",
    "\n",
    "    for i in range(H):\n",
    "        for j in range(W):\n",
    "            for c in range(channals):\n",
    "                block = blocks[i, j, :, :, c]\n",
    "                norm_block = normalize_block(block)\n",
    "                image[i * block_size : (i + 1) * block_size,\n",
    "                      j * block_size : (j + 1) * block_size, c] = norm_block\n",
    "                \n",
    "    return image\n",
    "                "
   ]
  },
  {
   "cell_type": "code",
   "execution_count": 344,
   "metadata": {},
   "outputs": [],
   "source": [
    "img_dtc = reconstruct_img_frec(res)\n",
    "cv2.imwrite(\"frec.jpg\", img_dtc)\n",
    "cv2.waitKey(0)\n",
    "cv2.destroyAllWindows()"
   ]
  }
 ],
 "metadata": {
  "kernelspec": {
   "display_name": "learn",
   "language": "python",
   "name": "python3"
  },
  "language_info": {
   "codemirror_mode": {
    "name": "ipython",
    "version": 3
   },
   "file_extension": ".py",
   "mimetype": "text/x-python",
   "name": "python",
   "nbconvert_exporter": "python",
   "pygments_lexer": "ipython3",
   "version": "3.12.8"
  }
 },
 "nbformat": 4,
 "nbformat_minor": 2
}
