{
 "cells": [
  {
   "cell_type": "code",
   "execution_count": 38,
   "metadata": {},
   "outputs": [],
   "source": [
    "import cv2\n",
    "import numpy as np\n",
    "import image_slicer"
   ]
  },
  {
   "cell_type": "code",
   "execution_count": 54,
   "metadata": {},
   "outputs": [
    {
     "name": "stdout",
     "output_type": "stream",
     "text": [
      "Ошибка: изображение не загружено. Проверьте путь к файлу.\n"
     ]
    },
    {
     "name": "stderr",
     "output_type": "stream",
     "text": [
      "[ WARN:0@26985.276] global loadsave.cpp:241 findDecoder imread_('Screenshot from 2024-12-28 08-25-59.png '): can't open/read file: check file path/integrity\n"
     ]
    }
   ],
   "source": [
    "img_path = 'Screenshot from 2024-12-28 08-25-59.png ' # fisherman-4465032_960_720.jpg\n",
    "\n",
    "img = cv2.imread(img_path, cv2.IMREAD_COLOR) #COLOR_YCrCb2BGR cv2.COLOR_BGR2YCR_CB)\n",
    "\n",
    "if img is None:\n",
    "    print(\"Ошибка: изображение не загружено. Проверьте путь к файлу.\")\n",
    "else:\n",
    "    # Преобразование в цветовое пространство YCrCb\n",
    "    img_ycrcb = cv2.cvtColor(img, cv2.COLOR_BGR2YCrCb)\n",
    "\n",
    "    cv2.imshow('Image in YCrCb', img_ycrcb)\n",
    "    cv2.waitKey(0)\n",
    "    cv2.destroyAllWindows()\n"
   ]
  },
  {
   "cell_type": "code",
   "execution_count": 51,
   "metadata": {},
   "outputs": [],
   "source": [
    "# split into blocs 8x8\n",
    "def split_into_blocs(img, block_size = 8):\n",
    "    h, w, _ = img.shape\n",
    "\n",
    "    # pad block size\n",
    "    pad_h = (block_size - h % block_size) % block_size\n",
    "    pad_w = (block_size - w % block_size) % block_size\n",
    "    print(pad_h, pad_w)\n",
    "\n",
    "\n"
   ]
  },
  {
   "cell_type": "code",
   "execution_count": 52,
   "metadata": {},
   "outputs": [
    {
     "name": "stdout",
     "output_type": "stream",
     "text": [
      "0 0\n"
     ]
    }
   ],
   "source": [
    "split_into_blocs(img_ycrcb, 8)\n",
    "# cv2.imshow('Image in YCrCb', img_ycrcb)\n",
    "# cv2.waitKey(0)\n",
    "# cv2.destroyAllWindows()"
   ]
  }
 ],
 "metadata": {
  "kernelspec": {
   "display_name": "work",
   "language": "python",
   "name": "python3"
  },
  "language_info": {
   "codemirror_mode": {
    "name": "ipython",
    "version": 3
   },
   "file_extension": ".py",
   "mimetype": "text/x-python",
   "name": "python",
   "nbconvert_exporter": "python",
   "pygments_lexer": "ipython3",
   "version": "3.12.5"
  }
 },
 "nbformat": 4,
 "nbformat_minor": 2
}
