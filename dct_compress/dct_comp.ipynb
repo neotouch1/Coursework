{
 "cells": [
  {
   "cell_type": "code",
   "execution_count": 53,
   "metadata": {},
   "outputs": [],
   "source": [
    "import cv2\n",
    "import numpy as np"
   ]
  },
  {
   "cell_type": "markdown",
   "metadata": {},
   "source": [
    "Загрузка изображения"
   ]
  },
  {
   "cell_type": "code",
   "execution_count": 54,
   "metadata": {},
   "outputs": [],
   "source": [
    "img_path = '/home/evgen/Coursework/dct_compress/fisherman-4465032_960_720.jpg' # fisherman-4465032_960_720.jpg\n",
    "\n",
    "img = cv2.imread(img_path, cv2.IMREAD_COLOR) #COLOR_YCrCb2BGR cv2.COLOR_BGR2YCR_CB)\n",
    "\n",
    "if img is None:\n",
    "    print(\"Ошибка: изображение не загружено. Проверьте путь к файлу.\")\n",
    "else:\n",
    "    # Преобразование в цветовое пространство YCrCb\n",
    "    img_ycrcb = cv2.cvtColor(img, cv2.COLOR_BGR2YCrCb)\n",
    "\n",
    "    # cv2.imshow('Image in YCrCb', img_ycrcb)\n",
    "    # cv2.waitKey(0)\n",
    "    # cv2.destroyAllWindows()\n"
   ]
  },
  {
   "cell_type": "markdown",
   "metadata": {},
   "source": [
    "Предобработка"
   ]
  },
  {
   "cell_type": "code",
   "execution_count": 55,
   "metadata": {},
   "outputs": [],
   "source": [
    "# Приведение изображения к кратным размерам\n",
    "def pad_image_to_multiple(img, block_size = 8):\n",
    "    h, w, channels = img.shape\n",
    "\n",
    "    # pad block size\n",
    "    pad_h = (block_size - h % block_size) % block_size\n",
    "    pad_w = (block_size - w % block_size) % block_size\n",
    "    # print(pad_h, pad_w)\n",
    "\n",
    "    new_h = h + pad_h\n",
    "    new_w = w + pad_w\n",
    "\n",
    "    new_img = np.zeros((new_h, new_w, channels), dtype=np.uint8)\n",
    "    new_img[:h, :w] = img\n",
    "\n",
    "    return new_img\n",
    "\n"
   ]
  },
  {
   "cell_type": "code",
   "execution_count": 56,
   "metadata": {},
   "outputs": [],
   "source": [
    "def split_into_blocs(img, block_size = 8):\n",
    "    h, w, channels = img.shape\n",
    "\n",
    "    blocks = img.reshape(h // block_size, block_size,\n",
    "                         w // block_size, block_size, \n",
    "                         channels)\n",
    "    \n",
    "\n",
    "    #Меняем оси для правильной структуры блоков\n",
    "    blocks = blocks.swapaxes(1, 2)\n",
    "    return blocks"
   ]
  },
  {
   "cell_type": "markdown",
   "metadata": {},
   "source": [
    "Применение \"дискретно-косинусного преобразования\""
   ]
  },
  {
   "cell_type": "code",
   "execution_count": 57,
   "metadata": {},
   "outputs": [],
   "source": [
    "# DCT\n",
    "def dct2D(block):\n",
    "\n",
    "    \"\"\"\n",
    "    Реализация 2D DCT для блока N x N.\n",
    "    :param block: входной блок размером N x N\n",
    "    :return: коэффициенты DCT размером N x N\n",
    "    \"\"\"\n",
    "\n",
    "    N = block.shape[0]\n",
    "    dct_res = np.zeros((N, N), dtype=np.float32)\n",
    "    alpha = lambda k : np.sqrt(1/N) if k == 0 else np.sqrt(2/N)\n",
    "\n",
    "    for u in range(N):\n",
    "        for v in range(N):\n",
    "            sum_value = 0.0\n",
    "            for x in range(N):\n",
    "                for y in range(N):\n",
    "                    sum_value += block[x, y] * \\\n",
    "                                 np.cos((2 * x + 1) * u * np.pi / (2 * N)) * \\\n",
    "                                 np.cos((2 * y + 1) * v * np.pi / (2 * N))\n",
    "            dct_res[u, v] = alpha(u) * alpha(v) * sum_value\n",
    "\n",
    "    return dct_res"
   ]
  },
  {
   "cell_type": "code",
   "execution_count": 58,
   "metadata": {},
   "outputs": [],
   "source": [
    "def apply_dct_to_blocks(blocks):\n",
    "    \"\"\"\n",
    "    Применить 2D DCT к каждому блоку изображения.\n",
    "    :param blocks: блоки изображения размером (H, W, block_size, block_size, channels)\n",
    "    :return: коэффициенты DCT для каждого блока\n",
    "    \"\"\"\n",
    "    H, W, block_size, _, channels = blocks.shape\n",
    "    dct_blocks = np.zeros_like(blocks, dtype=np.float32)\n",
    "\n",
    "    # Применяем DCT к каждому блоку для каждого канала\n",
    "    for i in range(H):\n",
    "        for j in range(W):\n",
    "            for c in range(channels):\n",
    "                block = blocks[i, j, :, :, c]  # Извлекаем блок для текущего канала\n",
    "                dct_blocks[i, j, :, :, c] = dct2D(block)\n",
    "\n",
    "    return dct_blocks"
   ]
  },
  {
   "cell_type": "code",
   "execution_count": 59,
   "metadata": {},
   "outputs": [],
   "source": [
    "new_im = pad_image_to_multiple(img_ycrcb, 8)\n",
    "blocks = split_into_blocs(new_im, 8)\n",
    "res = apply_dct_to_blocks(blocks)"
   ]
  },
  {
   "cell_type": "markdown",
   "metadata": {},
   "source": [
    "Квантование коэффициентов"
   ]
  },
  {
   "cell_type": "code",
   "execution_count": 60,
   "metadata": {},
   "outputs": [],
   "source": [
    "# Пример матриц квантования для каждого канала\n",
    "quant_matrices = [\n",
    "    np.array([  # Матрица для Y (яркость)\n",
    "        [16, 11, 10, 16, 24, 40, 51, 61],\n",
    "        [12, 12, 14, 19, 26, 58, 60, 55],\n",
    "        [14, 13, 16, 24, 40, 57, 69, 56],\n",
    "        [14, 17, 22, 29, 51, 87, 80, 62],\n",
    "        [18, 22, 37, 56, 68, 109, 103, 77],\n",
    "        [24, 35, 55, 64, 81, 104, 113, 92],\n",
    "        [49, 64, 78, 87, 103, 121, 120, 101],\n",
    "        [72, 92, 95, 98, 112, 100, 103, 99]\n",
    "    ]),\n",
    "    np.array([  # Матрица для Cb (синий компонент цветности)\n",
    "        [17, 18, 24, 47, 99, 99, 99, 99],\n",
    "        [18, 21, 26, 66, 99, 99, 99, 99],\n",
    "        [24, 26, 56, 99, 99, 99, 99, 99],\n",
    "        [47, 66, 99, 99, 99, 99, 99, 99],\n",
    "        [99, 99, 99, 99, 99, 99, 99, 99],\n",
    "        [99, 99, 99, 99, 99, 99, 99, 99],\n",
    "        [99, 99, 99, 99, 99, 99, 99, 99],\n",
    "        [99, 99, 99, 99, 99, 99, 99, 99]\n",
    "    ]),\n",
    "    np.array([  # Матрица для Cr (красный компонент цветности)\n",
    "        [17, 18, 24, 47, 99, 99, 99, 99],\n",
    "        [18, 21, 26, 66, 99, 99, 99, 99],\n",
    "        [24, 26, 56, 99, 99, 99, 99, 99],\n",
    "        [47, 66, 99, 99, 99, 99, 99, 99],\n",
    "        [99, 99, 99, 99, 99, 99, 99, 99],\n",
    "        [99, 99, 99, 99, 99, 99, 99, 99],\n",
    "        [99, 99, 99, 99, 99, 99, 99, 99],\n",
    "        [99, 99, 99, 99, 99, 99, 99, 99]\n",
    "    ])\n",
    "]"
   ]
  },
  {
   "cell_type": "code",
   "execution_count": 61,
   "metadata": {},
   "outputs": [],
   "source": [
    "# def quantize_dct_blocks(dct_blocks, quant_matrix):\n",
    "#     \"\"\"\n",
    "#     Применить квантование к каждому блоку коэффициентов DCT.\n",
    "#     :param dct_blocks: массив коэффициентов DCT (H, W, block_size, block_size, channels)\n",
    "#     :param quant_matrix: матрица квантования коэффициентов (block_size x block_size)\n",
    "#     :return: квантизированные коэффициенты\n",
    "#     \"\"\"\n",
    "#     H, W, block_size, _, channels = dct_blocks.shape\n",
    "#     quantized_blocks = np.zeros_like(dct_blocks, dtype=np.int32)\n",
    "\n",
    "#     for i in range(H):\n",
    "#         for j in range(W):\n",
    "#             for c in range(channels):\n",
    "#                 quantized_blocks[i, j, :, :, c] = np.round(dct_blocks[i, j, :, :, c] / quant_matrix)\n",
    "\n",
    "#     return quantized_blocks\n",
    "\n",
    "def quantize_dct_blocks_multi_channel(dct_blocks, quant_matrices):\n",
    "    \"\"\"\n",
    "    Применить квантование к каждому блоку коэффициентов DCT с разными матрицами для каждого канала.\n",
    "    :param dct_blocks: массив коэффициентов DCT (H, W, block_size, block_size, channels)\n",
    "    :param quant_matrices: список матриц квантования для каждого канала [(block_size x block_size), ...]\n",
    "    :return: квантизированные коэффициенты\n",
    "    \"\"\"\n",
    "    H, W, block_size, _, channels = dct_blocks.shape\n",
    "    quantized_blocks = np.zeros_like(dct_blocks, dtype=np.int32)\n",
    "\n",
    "    for c in range(channels):\n",
    "        for i in range(H):\n",
    "            for j in range(W):\n",
    "                quantized_blocks[i, j, :, :, c] = np.round(dct_blocks[i, j, :, :, c] / quant_matrices[c])\n",
    "\n",
    "    return quantized_blocks\n",
    "\n",
    "# Квантуем коэффициенты\n",
    "quantized_dct_blocks = quantize_dct_blocks_multi_channel(res, quant_matrices)"
   ]
  },
  {
   "cell_type": "code",
   "execution_count": 62,
   "metadata": {},
   "outputs": [
    {
     "name": "stdout",
     "output_type": "stream",
     "text": [
      "(90, 60, 8, 8, 3)\n"
     ]
    }
   ],
   "source": [
    "print(quantized_dct_blocks.shape)"
   ]
  },
  {
   "cell_type": "markdown",
   "metadata": {},
   "source": [
    "Дальнейшая обработка коэффициентов"
   ]
  },
  {
   "cell_type": "code",
   "execution_count": 66,
   "metadata": {},
   "outputs": [],
   "source": [
    "def zigzag_scan(block):\n",
    "    \"\"\"\n",
    "    Преобразовать 2D-блок в зигзагообразный порядок.\n",
    "    :param block: 2D массив (block_size x block_size)\n",
    "    :return: 1D массив значений в зигзагообразном порядке\n",
    "    \"\"\"\n",
    "    block_size = block.shape[0]\n",
    "    result = []\n",
    "    for i in range(2 * block_size - 1):\n",
    "        if i % 2 == 0:\n",
    "            for x in range(max(0, i - block_size + 1), min(i + 1, block_size)):\n",
    "                result.append(block[x, i - x])\n",
    "        else:\n",
    "            for x in range(max(0, i - block_size + 1), min(i + 1, block_size)):\n",
    "                result.append(block[i - x, x])\n",
    "    return result\n",
    "\n",
    "\n",
    "def zigzag_transform_blocks(quantized_blocks):\n",
    "    \"\"\"\n",
    "    Преобразовать все блоки в зигзагообразный порядок.\n",
    "    :param quantized_blocks: массив квантованных коэффициентов (H, W, block_size, block_size, channels)\n",
    "    :return: массив зигзагообразных преобразований для каждого блока\n",
    "    \"\"\"\n",
    "    H, W, block_size, _, channels = quantized_blocks.shape\n",
    "    zigzag_blocks = np.zeros((H, W, block_size * block_size, channels), dtype=np.int32)\n",
    "\n",
    "    for c in range(channels):\n",
    "        for i in range(H):\n",
    "            for j in range(W):\n",
    "                zigzag_blocks[i, j, :, c] = zigzag_scan(quantized_blocks[i, j, :, :, c])\n",
    "\n",
    "    return zigzag_blocks"
   ]
  },
  {
   "cell_type": "code",
   "execution_count": 69,
   "metadata": {},
   "outputs": [
    {
     "name": "stdout",
     "output_type": "stream",
     "text": [
      "Зигзаг для первого блока канала Y: [63  0  0  0  0  0  0  0  0  0  0  0  0  0  0  0  0  0  0  0  0  0  0  0\n",
      "  0  0  0  0  0  0  0  0  0  0  0  0  0  0  0  0  0  0  0  0  0  0  0  0\n",
      "  0  0  0  0  0  0  0  0  0  0  0  0  0  0  0  0]\n"
     ]
    }
   ],
   "source": [
    "# Преобразуем квантованные блоки\n",
    "zigzag_blocks = zigzag_transform_blocks(quantized_dct_blocks)\n",
    "print(\"Зигзаг для первого блока канала Y:\", zigzag_blocks[0, 0, :, 1])"
   ]
  },
  {
   "cell_type": "markdown",
   "metadata": {},
   "source": [
    "компрес RLE"
   ]
  },
  {
   "cell_type": "code",
   "execution_count": 70,
   "metadata": {},
   "outputs": [
    {
     "name": "stdout",
     "output_type": "stream",
     "text": [
      "[[[list([(71, 1), (0, 63)]) list([(63, 1), (0, 63)])\n",
      "   list([(56, 1), (0, 63)])]\n",
      "  [list([(71, 1), (0, 63)]) list([(62, 1), (0, 63)])\n",
      "   list([(56, 1), (0, 63)])]\n",
      "  [list([(72, 1), (0, 63)]) list([(62, 1), (0, 63)])\n",
      "   list([(56, 1), (0, 63)])]\n",
      "  ...\n",
      "  [list([(74, 1), (0, 63)]) list([(62, 1), (0, 63)])\n",
      "   list([(56, 1), (0, 63)])]\n",
      "  [list([(74, 1), (0, 63)]) list([(62, 1), (0, 63)])\n",
      "   list([(56, 1), (0, 63)])]\n",
      "  [list([(73, 1), (0, 63)]) list([(62, 1), (0, 63)])\n",
      "   list([(56, 1), (0, 63)])]]\n",
      "\n",
      " [[list([(71, 1), (0, 63)]) list([(62, 1), (0, 63)])\n",
      "   list([(56, 1), (0, 63)])]\n",
      "  [list([(72, 1), (0, 63)]) list([(62, 1), (0, 63)])\n",
      "   list([(56, 1), (0, 63)])]\n",
      "  [list([(72, 1), (0, 63)]) list([(62, 1), (0, 63)])\n",
      "   list([(56, 1), (0, 63)])]\n",
      "  ...\n",
      "  [list([(74, 1), (0, 63)]) list([(62, 1), (0, 63)])\n",
      "   list([(56, 1), (0, 63)])]\n",
      "  [list([(74, 1), (0, 63)]) list([(62, 1), (0, 63)])\n",
      "   list([(56, 1), (0, 63)])]\n",
      "  [list([(73, 1), (0, 63)]) list([(62, 1), (0, 63)])\n",
      "   list([(56, 1), (0, 63)])]]\n",
      "\n",
      " [[list([(72, 1), (0, 63)]) list([(62, 1), (0, 63)])\n",
      "   list([(56, 1), (0, 63)])]\n",
      "  [list([(72, 1), (0, 63)]) list([(62, 1), (0, 63)])\n",
      "   list([(56, 1), (0, 63)])]\n",
      "  [list([(73, 1), (0, 63)]) list([(62, 1), (0, 63)])\n",
      "   list([(56, 1), (0, 63)])]\n",
      "  ...\n",
      "  [list([(75, 1), (0, 63)]) list([(62, 1), (0, 63)])\n",
      "   list([(56, 1), (0, 63)])]\n",
      "  [list([(74, 1), (0, 63)]) list([(62, 1), (0, 63)])\n",
      "   list([(56, 1), (0, 63)])]\n",
      "  [list([(74, 1), (0, 63)]) list([(62, 1), (0, 63)])\n",
      "   list([(56, 1), (0, 63)])]]\n",
      "\n",
      " ...\n",
      "\n",
      " [[list([(49, 1), (1, 1), (0, 62)]) list([(61, 1), (0, 63)])\n",
      "   list([(56, 1), (0, 63)])]\n",
      "  [list([(50, 1), (1, 1), (0, 62)]) list([(61, 1), (0, 63)])\n",
      "   list([(56, 1), (0, 63)])]\n",
      "  [list([(51, 1), (1, 1), (0, 62)]) list([(61, 1), (0, 63)])\n",
      "   list([(56, 1), (0, 63)])]\n",
      "  ...\n",
      "  [list([(54, 1), (0, 63)]) list([(61, 1), (0, 63)])\n",
      "   list([(56, 1), (0, 63)])]\n",
      "  [list([(53, 1), (0, 63)]) list([(61, 1), (0, 63)])\n",
      "   list([(56, 1), (0, 63)])]\n",
      "  [list([(52, 1), (0, 63)]) list([(61, 1), (0, 63)])\n",
      "   list([(56, 1), (0, 63)])]]\n",
      "\n",
      " [[list([(48, 1), (1, 1), (0, 3), (-1, 1), (0, 58)])\n",
      "   list([(61, 1), (0, 63)]) list([(56, 1), (0, 63)])]\n",
      "  [list([(49, 1), (1, 1), (0, 3), (-1, 1), (0, 58)])\n",
      "   list([(61, 1), (0, 63)]) list([(56, 1), (0, 63)])]\n",
      "  [list([(50, 1), (0, 4), (-1, 1), (0, 58)]) list([(61, 1), (0, 63)])\n",
      "   list([(56, 1), (0, 63)])]\n",
      "  ...\n",
      "  [list([(52, 1), (0, 63)]) list([(61, 1), (0, 63)])\n",
      "   list([(56, 1), (0, 63)])]\n",
      "  [list([(52, 1), (0, 63)]) list([(61, 1), (0, 63)])\n",
      "   list([(56, 1), (0, 63)])]\n",
      "  [list([(51, 1), (0, 63)]) list([(61, 1), (0, 63)])\n",
      "   list([(56, 1), (0, 63)])]]\n",
      "\n",
      " [[list([(47, 1), (-1, 1), (0, 62)]) list([(61, 1), (0, 63)])\n",
      "   list([(56, 1), (0, 63)])]\n",
      "  [list([(47, 1), (-1, 1), (0, 62)]) list([(60, 1), (0, 63)])\n",
      "   list([(56, 1), (0, 63)])]\n",
      "  [list([(48, 1), (0, 63)]) list([(61, 1), (0, 63)])\n",
      "   list([(56, 1), (0, 63)])]\n",
      "  ...\n",
      "  [list([(51, 1), (1, 1), (0, 62)]) list([(61, 1), (0, 63)])\n",
      "   list([(56, 1), (0, 63)])]\n",
      "  [list([(51, 1), (0, 63)]) list([(61, 1), (0, 63)])\n",
      "   list([(56, 1), (0, 63)])]\n",
      "  [list([(50, 1), (0, 63)]) list([(61, 1), (0, 63)])\n",
      "   list([(56, 1), (0, 63)])]]]\n"
     ]
    }
   ],
   "source": [
    "def rle_encode(array):\n",
    "    \"\"\"\n",
    "    Применить RLE-кодирование к массиву.\n",
    "    :param array: входной одномерный массив\n",
    "    :return: массив пар (значение, количество)\n",
    "    \"\"\"\n",
    "    encoded = []\n",
    "    prev_value = array[0]\n",
    "    count = 1\n",
    "    for value in array[1:]:\n",
    "        if value == prev_value:\n",
    "            count += 1\n",
    "        else:\n",
    "            encoded.append((prev_value, count))\n",
    "            prev_value = value\n",
    "            count = 1\n",
    "    encoded.append((prev_value, count))  # Добавить последний элемент\n",
    "    return encoded\n",
    "\n",
    "# Пример кодирования одного блока\n",
    "# zigzag_flatten = zigzag_blocks[0, 0, :, 0]  # Первый блок первого канала\n",
    "# rle_result = rle_encode(zigzag_flatten)\n",
    "# print(rle_result)\n",
    "\n",
    "\n",
    "\n",
    "def apply_rle_to_all_blocks(zigzag_blocks):\n",
    "    \"\"\"\n",
    "    Применить RLE-кодирование ко всем зигзагообразным блокам.\n",
    "    :param zigzag_blocks: массив зигзагообразных преобразований (H, W, block_size^2, channels)\n",
    "    :return: массив RLE-кодированных блоков\n",
    "    \"\"\"\n",
    "    H, W, block_size_sq, channels = zigzag_blocks.shape\n",
    "    rle_encoded_blocks = np.empty((H, W, channels), dtype=object)\n",
    "\n",
    "    for c in range(channels):\n",
    "        for i in range(H):\n",
    "            for j in range(W):\n",
    "                rle_encoded_blocks[i, j, c] = rle_encode(zigzag_blocks[i, j, :, c])\n",
    "\n",
    "    return rle_encoded_blocks\n",
    "\n",
    "# Применение RLE ко всем блокам\n",
    "rle_encoded_blocks = apply_rle_to_all_blocks(zigzag_blocks)\n",
    "\n",
    "# Пример: вывод результата для первого блока первого канала\n",
    "print(rle_encoded_blocks)"
   ]
  },
  {
   "cell_type": "markdown",
   "metadata": {},
   "source": [
    "Декомпрессия RLE"
   ]
  },
  {
   "cell_type": "code",
   "execution_count": 72,
   "metadata": {},
   "outputs": [],
   "source": [
    "def rle_decode(rle_data):\n",
    "    \"\"\"\n",
    "    Декодировать массив, закодированный с помощью RLE.\n",
    "    :param rle_data: массив пар (значение, количество)\n",
    "    :return: декодированный 1D массив\n",
    "    \"\"\"\n",
    "    decoded = []\n",
    "    for value, count in rle_data:\n",
    "        decoded.extend([value] * count)\n",
    "    return decoded"
   ]
  },
  {
   "cell_type": "code",
   "execution_count": 73,
   "metadata": {},
   "outputs": [],
   "source": [
    "def decode_rle_from_all_blocks(rle_encoded_blocks):\n",
    "    \"\"\"\n",
    "    Применить декодирование RLE ко всем блокам.\n",
    "    :param rle_encoded_blocks: массив RLE-кодированных блоков (H, W, channels)\n",
    "    :return: массив зигзагообразных блоков (H, W, block_size^2, channels)\n",
    "    \"\"\"\n",
    "    H, W, channels = rle_encoded_blocks.shape\n",
    "    # Предполагаем, что блокы квадратные и имеют одинаковый размер\n",
    "    # Восстанавливаем размерность на основе количества элементов в одном блоке\n",
    "    block_size_sq = len(rle_decode(rle_encoded_blocks[0, 0, 0]))\n",
    "    zigzag_blocks = np.zeros((H, W, block_size_sq, channels), dtype=np.int32)\n",
    "\n",
    "    for c in range(channels):\n",
    "        for i in range(H):\n",
    "            for j in range(W):\n",
    "                zigzag_blocks[i, j, :, c] = rle_decode(rle_encoded_blocks[i, j, c])\n",
    "\n",
    "    return zigzag_blocks\n"
   ]
  },
  {
   "cell_type": "code",
   "execution_count": 74,
   "metadata": {},
   "outputs": [
    {
     "name": "stdout",
     "output_type": "stream",
     "text": [
      "Декодированный первый блок (первый канал):\n",
      "[71  0  0  0  0  0  0  0  0  0  0  0  0  0  0  0  0  0  0  0  0  0  0  0\n",
      "  0  0  0  0  0  0  0  0  0  0  0  0  0  0  0  0  0  0  0  0  0  0  0  0\n",
      "  0  0  0  0  0  0  0  0  0  0  0  0  0  0  0  0]\n"
     ]
    }
   ],
   "source": [
    "# Декодируем все блоки\n",
    "decoded_zigzag_blocks = decode_rle_from_all_blocks(rle_encoded_blocks)\n",
    "\n",
    "# Проверим восстановление первого блока первого канала\n",
    "print(\"Декодированный первый блок (первый канал):\")\n",
    "print(decoded_zigzag_blocks[0, 0, :, 0])"
   ]
  },
  {
   "cell_type": "markdown",
   "metadata": {},
   "source": [
    "Визуализация паттернов высокой и низкой частоты, отображающие энергию и структуру каждого блока."
   ]
  },
  {
   "cell_type": "code",
   "execution_count": 37,
   "metadata": {},
   "outputs": [],
   "source": [
    "def normalize_block(block):\n",
    "\n",
    "    block = np.abs(block)\n",
    "    norm_block = 255 * (block - block.min() / (block.max() - block.min()))\n",
    "    return norm_block\n",
    "\n",
    "def reconstruct_img_frec(blocks):\n",
    "\n",
    "    H, W, block_size, _, channals = blocks.shape\n",
    "\n",
    "    h = H * block_size\n",
    "    w = W * block_size\n",
    "\n",
    "    image = np.zeros((h, w, channals), dtype=np.uint8)\n",
    "\n",
    "    for i in range(H):\n",
    "        for j in range(W):\n",
    "            for c in range(channals):\n",
    "                block = blocks[i, j, :, :, c]\n",
    "                norm_block = normalize_block(block)\n",
    "                image[i * block_size : (i + 1) * block_size,\n",
    "                      j * block_size : (j + 1) * block_size, c] = norm_block\n",
    "                \n",
    "    return image\n",
    "                "
   ]
  },
  {
   "cell_type": "code",
   "execution_count": 38,
   "metadata": {},
   "outputs": [],
   "source": [
    "img_dtc = reconstruct_img_frec(res)\n",
    "cv2.imshow(\"DCT Image\", img_dtc)\n",
    "cv2.waitKey(0)\n",
    "cv2.destroyAllWindows()"
   ]
  }
 ],
 "metadata": {
  "kernelspec": {
   "display_name": "learn",
   "language": "python",
   "name": "python3"
  },
  "language_info": {
   "codemirror_mode": {
    "name": "ipython",
    "version": 3
   },
   "file_extension": ".py",
   "mimetype": "text/x-python",
   "name": "python",
   "nbconvert_exporter": "python",
   "pygments_lexer": "ipython3",
   "version": "3.12.8"
  }
 },
 "nbformat": 4,
 "nbformat_minor": 2
}
